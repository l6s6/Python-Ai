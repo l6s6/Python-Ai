{
  "nbformat": 4,
  "nbformat_minor": 0,
  "metadata": {
    "colab": {
      "name": "Untitled",
      "provenance": [],
      "collapsed_sections": [],
      "authorship_tag": "ABX9TyPFIDqREgvyoTGc3hsuCd82",
      "include_colab_link": true
    },
    "kernelspec": {
      "name": "python3",
      "display_name": "Python 3"
    }
  },
  "cells": [
    {
      "cell_type": "markdown",
      "metadata": {
        "id": "view-in-github",
        "colab_type": "text"
      },
      "source": [
        "<a href=\"https://colab.research.google.com/github/l6s6/Python-Ai/blob/main/stocks.ipynb\" target=\"_parent\"><img src=\"https://colab.research.google.com/assets/colab-badge.svg\" alt=\"Open In Colab\"/></a>"
      ]
    },
    {
      "cell_type": "code",
      "metadata": {
        "id": "gXLbmwl1Z2sU"
      },
      "source": [
        "#Import the libraries\n",
        "import math\n",
        "import pandas_datareader as web\n",
        "import numpy as np\n",
        "import pandas as pd \n",
        "from sklearn.preprocessing import MinMaxScaler\n",
        "from keras.models import Sequential\n",
        "from keras.layers import Dense, LSTM\n",
        "import matplotlib.pyplot as plt\n",
        "plt.style.use(\"fivethirtyeight\")\n"
      ],
      "execution_count": null,
      "outputs": []
    },
    {
      "cell_type": "code",
      "metadata": {
        "id": "rumvz9Ofb-ZU",
        "outputId": "e4492097-9421-4d48-ad00-3dc6874abcc7",
        "colab": {
          "base_uri": "https://localhost:8080/",
          "height": 450
        }
      },
      "source": [
        "#Get stock quote \n",
        "df = web.DataReader(\"MSFT\", data_source=\"yahoo\", start=\"2015-01-01\", end=\"2020-11-01\")\n",
        "#Show data\n",
        "df"
      ],
      "execution_count": null,
      "outputs": [
        {
          "output_type": "execute_result",
          "data": {
            "text/html": [
              "<div>\n",
              "<style scoped>\n",
              "    .dataframe tbody tr th:only-of-type {\n",
              "        vertical-align: middle;\n",
              "    }\n",
              "\n",
              "    .dataframe tbody tr th {\n",
              "        vertical-align: top;\n",
              "    }\n",
              "\n",
              "    .dataframe thead th {\n",
              "        text-align: right;\n",
              "    }\n",
              "</style>\n",
              "<table border=\"1\" class=\"dataframe\">\n",
              "  <thead>\n",
              "    <tr style=\"text-align: right;\">\n",
              "      <th></th>\n",
              "      <th>High</th>\n",
              "      <th>Low</th>\n",
              "      <th>Open</th>\n",
              "      <th>Close</th>\n",
              "      <th>Volume</th>\n",
              "      <th>Adj Close</th>\n",
              "    </tr>\n",
              "    <tr>\n",
              "      <th>Date</th>\n",
              "      <th></th>\n",
              "      <th></th>\n",
              "      <th></th>\n",
              "      <th></th>\n",
              "      <th></th>\n",
              "      <th></th>\n",
              "    </tr>\n",
              "  </thead>\n",
              "  <tbody>\n",
              "    <tr>\n",
              "      <th>2015-01-02</th>\n",
              "      <td>47.419998</td>\n",
              "      <td>46.540001</td>\n",
              "      <td>46.660000</td>\n",
              "      <td>46.759998</td>\n",
              "      <td>27913900.0</td>\n",
              "      <td>41.647892</td>\n",
              "    </tr>\n",
              "    <tr>\n",
              "      <th>2015-01-05</th>\n",
              "      <td>46.730000</td>\n",
              "      <td>46.250000</td>\n",
              "      <td>46.369999</td>\n",
              "      <td>46.330002</td>\n",
              "      <td>39673900.0</td>\n",
              "      <td>41.264908</td>\n",
              "    </tr>\n",
              "    <tr>\n",
              "      <th>2015-01-06</th>\n",
              "      <td>46.750000</td>\n",
              "      <td>45.540001</td>\n",
              "      <td>46.380001</td>\n",
              "      <td>45.650002</td>\n",
              "      <td>36447900.0</td>\n",
              "      <td>40.659245</td>\n",
              "    </tr>\n",
              "    <tr>\n",
              "      <th>2015-01-07</th>\n",
              "      <td>46.459999</td>\n",
              "      <td>45.490002</td>\n",
              "      <td>45.980000</td>\n",
              "      <td>46.230000</td>\n",
              "      <td>29114100.0</td>\n",
              "      <td>41.175831</td>\n",
              "    </tr>\n",
              "    <tr>\n",
              "      <th>2015-01-08</th>\n",
              "      <td>47.750000</td>\n",
              "      <td>46.720001</td>\n",
              "      <td>46.750000</td>\n",
              "      <td>47.590000</td>\n",
              "      <td>29645200.0</td>\n",
              "      <td>42.387146</td>\n",
              "    </tr>\n",
              "    <tr>\n",
              "      <th>...</th>\n",
              "      <td>...</td>\n",
              "      <td>...</td>\n",
              "      <td>...</td>\n",
              "      <td>...</td>\n",
              "      <td>...</td>\n",
              "      <td>...</td>\n",
              "    </tr>\n",
              "    <tr>\n",
              "      <th>2020-10-26</th>\n",
              "      <td>216.339996</td>\n",
              "      <td>208.100006</td>\n",
              "      <td>213.850006</td>\n",
              "      <td>210.080002</td>\n",
              "      <td>37111600.0</td>\n",
              "      <td>210.080002</td>\n",
              "    </tr>\n",
              "    <tr>\n",
              "      <th>2020-10-27</th>\n",
              "      <td>214.669998</td>\n",
              "      <td>210.330002</td>\n",
              "      <td>211.589996</td>\n",
              "      <td>213.250000</td>\n",
              "      <td>36700300.0</td>\n",
              "      <td>213.250000</td>\n",
              "    </tr>\n",
              "    <tr>\n",
              "      <th>2020-10-28</th>\n",
              "      <td>208.839996</td>\n",
              "      <td>202.100006</td>\n",
              "      <td>207.669998</td>\n",
              "      <td>202.679993</td>\n",
              "      <td>51195600.0</td>\n",
              "      <td>202.679993</td>\n",
              "    </tr>\n",
              "    <tr>\n",
              "      <th>2020-10-29</th>\n",
              "      <td>207.360001</td>\n",
              "      <td>203.369995</td>\n",
              "      <td>204.070007</td>\n",
              "      <td>204.720001</td>\n",
              "      <td>31432600.0</td>\n",
              "      <td>204.720001</td>\n",
              "    </tr>\n",
              "    <tr>\n",
              "      <th>2020-10-30</th>\n",
              "      <td>204.289993</td>\n",
              "      <td>199.619995</td>\n",
              "      <td>203.500000</td>\n",
              "      <td>202.470001</td>\n",
              "      <td>36953700.0</td>\n",
              "      <td>202.470001</td>\n",
              "    </tr>\n",
              "  </tbody>\n",
              "</table>\n",
              "<p>1469 rows × 6 columns</p>\n",
              "</div>"
            ],
            "text/plain": [
              "                  High         Low  ...      Volume   Adj Close\n",
              "Date                                ...                        \n",
              "2015-01-02   47.419998   46.540001  ...  27913900.0   41.647892\n",
              "2015-01-05   46.730000   46.250000  ...  39673900.0   41.264908\n",
              "2015-01-06   46.750000   45.540001  ...  36447900.0   40.659245\n",
              "2015-01-07   46.459999   45.490002  ...  29114100.0   41.175831\n",
              "2015-01-08   47.750000   46.720001  ...  29645200.0   42.387146\n",
              "...                ...         ...  ...         ...         ...\n",
              "2020-10-26  216.339996  208.100006  ...  37111600.0  210.080002\n",
              "2020-10-27  214.669998  210.330002  ...  36700300.0  213.250000\n",
              "2020-10-28  208.839996  202.100006  ...  51195600.0  202.679993\n",
              "2020-10-29  207.360001  203.369995  ...  31432600.0  204.720001\n",
              "2020-10-30  204.289993  199.619995  ...  36953700.0  202.470001\n",
              "\n",
              "[1469 rows x 6 columns]"
            ]
          },
          "metadata": {
            "tags": []
          },
          "execution_count": 9
        }
      ]
    },
    {
      "cell_type": "markdown",
      "metadata": {
        "id": "EFValM-obdkd"
      },
      "source": [
        ""
      ]
    }
  ]
}